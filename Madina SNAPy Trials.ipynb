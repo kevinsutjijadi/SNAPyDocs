{
 "cells": [
  {
   "cell_type": "code",
   "execution_count": 1,
   "metadata": {},
   "outputs": [],
   "source": [
    "import SNAPy as sna\n",
    "import geopandas as gpd\n",
    "import madina as md\n",
    "import madina.una.tools as una\n",
    "import numpy as np\n",
    "from IPython.display import display\n",
    "import ipywidgets as widgets\n"
   ]
  },
  {
   "cell_type": "code",
   "execution_count": 2,
   "metadata": {},
   "outputs": [],
   "source": [
    "# MainDir = 'D:\\\\OneDrive\\\\0203 GIS Files\\\\0110 Jakarta\\\\'\n",
    "# dfNetwork = gpd.read_file(MainDir+'Jakpus_sample_sgt.gpkg', layer='edges').set_crs(32748, allow_override=True) # network dataframe\n",
    "# dfEntries= gpd.read_file(MainDir+'Jakpus_sample.gpkg', layer='entries') # entrance dataframe"
   ]
  },
  {
   "cell_type": "code",
   "execution_count": 3,
   "metadata": {},
   "outputs": [],
   "source": [
    "MainDir = 'D:\\\\OneDrive\\\\0203 GIS Files\\\\0110 Jakarta\\\\'\n",
    "dfNetwork = gpd.read_file(MainDir+'testSegment.gpkg', layer='edges').set_crs(32748, allow_override=True) # network dataframe\n",
    "dfEntries= gpd.read_file(MainDir+'Jakpus_sample.gpkg', layer='entries') # entrance dataframe"
   ]
  },
  {
   "cell_type": "code",
   "execution_count": 4,
   "metadata": {},
   "outputs": [
    {
     "name": "stdout",
     "output_type": "stream",
     "text": [
      "GraphSim Class ----------\n",
      "Projection EPSG:32748\n",
      "EntriesDf EntID not detected, adding from index\n",
      "NetworkDf EdgeID not detected, adding from index\n",
      "Graph Built with 56,585 Nodes, 74,311 Edges\n",
      "Graph mapped 14,039 Entries\n",
      "Graph initialization finished in 7.0353 s\n"
     ]
    }
   ],
   "source": [
    "baseSet = {\n",
    "        'EntDist' : 100,\n",
    "        'EntID': 'fid',\n",
    "        'EdgeID': 'fid',\n",
    "        'Threads': 0,\n",
    "    }\n",
    "\n",
    "nwSim = sna.GraphSims(dfNetwork, dfEntries, **baseSet) # Restarting nwSim"
   ]
  },
  {
   "cell_type": "code",
   "execution_count": null,
   "metadata": {},
   "outputs": [],
   "source": [
    "import time\n",
    "a = widgets.FloatSlider(\n",
    "    value=7.5,\n",
    "    min=200,\n",
    "    max=2000.0,\n",
    "    step=0.1,\n",
    "    description='Distance:',\n",
    "    disabled=False,\n",
    "    continuous_update=True,\n",
    "    orientation='horizontal',\n",
    "    readout=True,\n",
    "    readout_format='.1f',\n",
    "    width='500px',\n",
    ")\n",
    "\n",
    "EntID = [1200,]\n",
    "\n",
    "rslt = nwSim.PathReach(EntID, a.value, True, True, True, True)\n",
    "ddeck = rslt[0]\n",
    "\n",
    "output = widgets.Output()\n",
    "\n",
    "def valcg(change):\n",
    "    with output:\n",
    "        output.clear_output(wait=True)\n",
    "        rsltB = nwSim.PathReach(EntID, a.value, True, True, True, True, True)\n",
    "        ddeck.layers = rsltB\n",
    "        display(ddeck)\n",
    "with output:\n",
    "    display(ddeck)\n",
    "a.observe(valcg)\n",
    "display(a, output)"
   ]
  },
  {
   "cell_type": "code",
   "execution_count": null,
   "metadata": {},
   "outputs": [],
   "source": [
    "rslt = nwSim.PathReach([3000,], 785, True, True, True, True)\n",
    "rslt[0].to_html('spread.html')"
   ]
  },
  {
   "cell_type": "code",
   "execution_count": null,
   "metadata": {},
   "outputs": [],
   "source": [
    "from shapely.geometry import LineString, MultiLineString, Point, mapping, shape\n",
    "from shapely.ops import nearest_points, split, linemerge\n",
    "\n",
    "eid = [x[0] for x in rslt]\n",
    "edf = nwSim.NetworkDf.loc[eid][['geometry', 'fid']]\n",
    "edf['vector'] = [x[1] for x in rslt]\n",
    "\n",
    "\n",
    "\n",
    "edf['geometry'] = edf.apply(lambda x: splitline(x.geometry, x.vector), axis=1)\n"
   ]
  },
  {
   "cell_type": "code",
   "execution_count": null,
   "metadata": {},
   "outputs": [],
   "source": [
    "edf.reset_index()"
   ]
  },
  {
   "cell_type": "code",
   "execution_count": null,
   "metadata": {},
   "outputs": [],
   "source": [
    "nwSim.Map_BaseLayerInit()"
   ]
  },
  {
   "cell_type": "code",
   "execution_count": null,
   "metadata": {},
   "outputs": [],
   "source": [
    "nwSim.Map_PopLayer()"
   ]
  },
  {
   "cell_type": "code",
   "execution_count": null,
   "metadata": {},
   "outputs": [],
   "source": [
    "nwSim.Map_Show()"
   ]
  },
  {
   "cell_type": "code",
   "execution_count": null,
   "metadata": {},
   "outputs": [],
   "source": [
    "baseSet = {\n",
    "    'DetourR' : 1.1, \n",
    "    'SearchDist' : 400.0,\n",
    "    'OriWgt': 'Kapasitas',\n",
    "    'DestWgt': 'Kapasitas',\n",
    "    'RsltAttr': 'Btwn',\n",
    "    'Threads':0,\n",
    "    'Include_Destination':True\n",
    "}\n",
    "nwSim.EntriesDf['Kapasitas'] = 100.0\n",
    "idO = nwSim.EntriesDf[nwSim.EntriesDf['jenbang'].isin(('Hunian', 'HUNIAN'))].fid\n",
    "idD = nwSim.EntriesDf[nwSim.EntriesDf['jenbang'].isin(('Non Hunian',))].fid\n",
    "nwSim.BetweenessPatronage(idO, idD, **baseSet)"
   ]
  },
  {
   "cell_type": "code",
   "execution_count": null,
   "metadata": {},
   "outputs": [],
   "source": [
    "nwSim.Map_BaseLayerInit()\n",
    "nwSim.Map_LayerAdd(\n",
    "    {'Btwn':{'Omin':8.0, 'Omax':15.0}}\n",
    ")\n",
    "a = nwSim.Map_Show()\n",
    "a"
   ]
  },
  {
   "cell_type": "code",
   "execution_count": 18,
   "metadata": {},
   "outputs": [],
   "source": [
    "nwSim.NetworkDf.to_file(MainDir+\"testRun.gpkg\", layer=\"network\", driver='GPKG')"
   ]
  },
  {
   "cell_type": "code",
   "execution_count": null,
   "metadata": {},
   "outputs": [],
   "source": [
    "nwSim.Map_LayerAdd(\n",
    "    {'Btwn_M03': None,}\n",
    ")\n",
    "nwSim.Map_Show()"
   ]
  },
  {
   "cell_type": "code",
   "execution_count": null,
   "metadata": {},
   "outputs": [],
   "source": [
    "dfEntries['Kapasitas'] = 100.0\n",
    "mdSim = md.Zonal()\n",
    "mdSim.load_layer(name='sidewalks', source=dfNetwork)\n",
    "mdSim.load_layer(name='entOrig', source=dfEntries)\n",
    "mdSim.load_layer(name='entDest', source=dfEntries)\n",
    "mdSim['entOrig'].gdf = mdSim['entOrig'].gdf[mdSim['entOrig'].gdf['jenbang'].isin(('Hunian', 'HUNIAN'))]\n",
    "mdSim['entDest'].gdf = mdSim['entDest'].gdf[mdSim['entDest'].gdf['jenbang'].isin(('Non Hunian',))]\n",
    "\n",
    "\n",
    "mdSim.create_street_network(source_layer='sidewalks', node_snapping_tolerance=0.1)\n",
    "mdSim.insert_node(label='origin', layer_name='entOrig', weight_attribute='Kapasitas')\n",
    "mdSim.insert_node(label='destination', layer_name='entDest', weight_attribute='Kapasitas')\n",
    "mdSim.create_graph()\n",
    "mdSim.describe()"
   ]
  },
  {
   "cell_type": "code",
   "execution_count": null,
   "metadata": {},
   "outputs": [],
   "source": [
    "una.betweenness(\n",
    "    mdSim,\n",
    "    search_radius = 800,\n",
    "    save_betweenness_as=\"baseline\",\n",
    "    detour_ratio=1.1,\n",
    "    num_cores=16\n",
    ")\n"
   ]
  },
  {
   "cell_type": "code",
   "execution_count": null,
   "metadata": {},
   "outputs": [],
   "source": [
    "sets = [\n",
    "    ['Btwn_M04', 8.0, 1, 0.8],\n",
    "    ['Btwn_M03', 12.0, 2.5, 1.1],\n",
    "]\n",
    "rslt = sna.SimTimeDistribute(nwSim.NetworkDf, sets, spread=0.5, cal_ends=False)\n",
    "rslt"
   ]
  },
  {
   "cell_type": "code",
   "execution_count": null,
   "metadata": {},
   "outputs": [],
   "source": [
    "nwSim.NetworkDf.to_file(MainDir+\"testresults.gpkg\", layer=\"NetworkQlt\", driver='GPKG')"
   ]
  }
 ],
 "metadata": {
  "kernelspec": {
   "display_name": "Python 3 (ipykernel)",
   "language": "python",
   "name": "python3"
  },
  "language_info": {
   "codemirror_mode": {
    "name": "ipython",
    "version": 3
   },
   "file_extension": ".py",
   "mimetype": "text/x-python",
   "name": "python",
   "nbconvert_exporter": "python",
   "pygments_lexer": "ipython3",
   "version": "3.11.0"
  }
 },
 "nbformat": 4,
 "nbformat_minor": 4
}
